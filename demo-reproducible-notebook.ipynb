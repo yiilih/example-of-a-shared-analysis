{
 "cells": [
  {
   "attachments": {},
   "cell_type": "markdown",
   "metadata": {},
   "source": [
    "# Demo of a reproducible notebook\n",
    "\n",
    "# 基本必備\n",
    "- README: 第一個看的文件\n",
    "- venv: 環境跟套件\n",
    "- requirements.txt: 套件清單\n",
    "- bootstrap.sh: 自動設定好環境跟套件\n",
    "\n",
    "### Git and gitignore\n",
    "- data: README 描述如何下載\n",
    "- git: ignore data and venv\n",
    "\n",
    "### Notebook\n",
    "- ipynb: export as html and/or pdf"
   ]
  },
  {
   "cell_type": "code",
   "execution_count": 1,
   "metadata": {},
   "outputs": [],
   "source": [
    "# import the libraries\n",
    "import pandas as pd\n",
    "%matplotlib inline\n",
    "import matplotlib.pyplot as plt\n",
    "import seaborn as sns\n",
    "import numpy as np\n",
    "import re, string\n",
    "import nltk\n",
    "import spacy"
   ]
  },
  {
   "cell_type": "code",
   "execution_count": null,
   "metadata": {},
   "outputs": [],
   "source": [
    "# 套件有缺！\n",
    "#import yaml\n",
    "\n",
    "#!pip install PyYAML\n",
    "# pip freeze > requirements.txt  ＃記得更新"
   ]
  },
  {
   "cell_type": "code",
   "execution_count": 8,
   "metadata": {},
   "outputs": [],
   "source": [
    "# Load data\n",
    "\n",
    "# !!! File path !!!!\n",
    "# 這種路徑一定失敗 C:\\User\\MyUserName\\...\n",
    "\n",
    "sample_df = pd.read_csv('data/sample_submission.csv')\n",
    "train_df = pd.read_csv('data/train.csv')\n",
    "test_df = pd.read_csv('data/test.csv')"
   ]
  },
  {
   "attachments": {},
   "cell_type": "markdown",
   "metadata": {},
   "source": [
    "# If you use Windows Subsystem Linux (WSL)\n",
    "- WSL 讀寫 windows 的檔案會很慢。建議資料跟環境都存到 WSL 這邊\n",
    "- [Expand the size of your WSL 2 Virtual Hard Disk | Microsoft Learn](https://learn.microsoft.com/en-us/windows/wsl/vhd-size)\n",
    "\n",
    "# MISC\n",
    "- 除了 Notebook，存一份 HTML or PDF\n",
    "- 建議作 table of content。因為 notebook 太長就很難閱讀\n",
    "- 輸出 ipynb 到 pdf 需要安裝 Latex  https://nbconvert.readthedocs.io/en/latest/install.html#installing-tex\n",
    "- Running Jupyter notebook in VSCode: 選擇正確的 python interpreter"
   ]
  }
 ],
 "metadata": {
  "kernelspec": {
   "display_name": "Python 3.10.6 ('venv': venv)",
   "language": "python",
   "name": "python3"
  },
  "language_info": {
   "codemirror_mode": {
    "name": "ipython",
    "version": 3
   },
   "file_extension": ".py",
   "mimetype": "text/x-python",
   "name": "python",
   "nbconvert_exporter": "python",
   "pygments_lexer": "ipython3",
   "version": "3.10.6 (main, Nov 14 2022, 16:10:14) [GCC 11.3.0]"
  },
  "orig_nbformat": 4,
  "vscode": {
   "interpreter": {
    "hash": "42d7b50c68d4df1899ba55201f9a84f7901717867b5b0d379be8b0cc23aa4e44"
   }
  }
 },
 "nbformat": 4,
 "nbformat_minor": 2
}
